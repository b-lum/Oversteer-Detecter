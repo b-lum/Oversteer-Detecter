{
 "cells": [
  {
   "cell_type": "code",
   "execution_count": null,
   "id": "29a9f471",
   "metadata": {},
   "outputs": [],
   "source": [
    "import os \n",
    "import cv2\n",
    "import numpy as np \n",
    "\n",
    "from pathlib import Path \n",
    "from datasets import Dataset, Features, Array3D, ClassLabel, Value\n",
    "from multiprocessing import Pool, cpu_count\n",
    "from tqdm.notebook import tqdm\n",
    "\n",
    "\n"
   ]
  },
  {
   "cell_type": "code",
   "execution_count": null,
   "id": "fceab594",
   "metadata": {},
   "outputs": [],
   "source": [
    "folder = \"C:\\\\Users\\\\brand\\\\desktop\\\\workspace\\\\f1-telemetry-app\\\\record-anomaly\\\\clips\"\n",
    "\n",
    "files = os.listdir(folder)\n",
    "\n",
    "mp4_files = [os.path.join(folder, f) for f in files if f.endswith(\".mp4\")]\n",
    "\n",
    "mp4_files\n",
    "\n",
    "size = [426, 240]\n",
    "\n",
    "mp4_files"
   ]
  },
  {
   "cell_type": "code",
   "execution_count": null,
   "id": "bc3117ef",
   "metadata": {},
   "outputs": [],
   "source": [
    "data = []\n",
    "\n",
    "if __name__ == \"__main__\":\n",
    "    n_cores = cpu_count()\n",
    "    print(f\"Using {n_cores} CPU cores...\")\n",
    "\n",
    "    data = []\n",
    "    with Pool(n_cores) as pool:\n",
    "        # imap_unordered returns results as soon as they finish\n",
    "        for result in tqdm(pool.imap_unordered(process_video, mp4_files), total=len(mp4_files)):\n",
    "            data.append(result)\n",
    "\n",
    "    print(f\"Processed {len(data)} videos\")"
   ]
  },
  {
   "cell_type": "code",
   "execution_count": null,
   "id": "e11deff0",
   "metadata": {},
   "outputs": [],
   "source": [
    "from datasets import load_from_disk\n",
    "import matplotlib.pyplot as plt\n",
    "\n",
    "\n",
    "ds = load_from_disk(\"C:\\\\Users\\\\brand\\\\desktop\\\\workspace\\\\f1-telemetry-app\\\\fine-tuning\\\\datasets\\\\datasets_2025-09-24_07-34-16\")\n",
    "print(ds)\n"
   ]
  },
  {
   "cell_type": "code",
   "execution_count": null,
   "id": "eba9675a",
   "metadata": {},
   "outputs": [],
   "source": [
    "import matplotlib.pyplot as plt\n"
   ]
  },
  {
   "cell_type": "code",
   "execution_count": null,
   "id": "1ca3c2eb",
   "metadata": {},
   "outputs": [],
   "source": [
    "from datasets import load_from_disk\n",
    "import matplotlib.pyplot as plt\n",
    "\n",
    "ds = load_from_disk(\"C:\\\\Users\\\\brand\\\\desktop\\\\workspace\\\\f1-telemetry-app\\\\fine-tuning\\\\datasets\\\\datasets_2025-09-24_07-34-16\")\n",
    "\n"
   ]
  },
  {
   "cell_type": "code",
   "execution_count": null,
   "id": "926b9bf7",
   "metadata": {},
   "outputs": [],
   "source": [
    "from datasets import load_from_disk\n",
    "import matplotlib.pyplot as plt\n",
    "\n",
    "ds = load_from_disk(\"C:\\\\Users\\\\brand\\\\desktop\\\\workspace\\\\f1-telemetry-app\\\\fine-tuning\\\\datasets\\\\datasets_2025-09-24_07-34-16\")\n",
    "\n",
    "\n",
    "\n",
    "first_example = ds[1]\n",
    "frames = np.array(first_example[\"video\"])\n",
    "label = first_example[\"label\"]\n",
    "\n",
    "\n",
    "print(\"Video shape:\", frames.shape)\n",
    "print(\"Label:\", label)\n"
   ]
  },
  {
   "cell_type": "code",
   "execution_count": null,
   "id": "3111aee7",
   "metadata": {},
   "outputs": [],
   "source": [
    "for idx in range(0, len(frames)) :\n",
    "    plt.imshow(frames[idx])\n",
    "    plt.title(f\"Label: {label}\")\n",
    "    plt.axis(\"off\")\n",
    "    plt.show()"
   ]
  },
  {
   "cell_type": "code",
   "execution_count": null,
   "id": "3a60b2e4",
   "metadata": {},
   "outputs": [],
   "source": []
  }
 ],
 "metadata": {
  "kernelspec": {
   "display_name": "Python 3",
   "language": "python",
   "name": "python3"
  },
  "language_info": {
   "codemirror_mode": {
    "name": "ipython",
    "version": 3
   },
   "file_extension": ".py",
   "mimetype": "text/x-python",
   "name": "python",
   "nbconvert_exporter": "python",
   "pygments_lexer": "ipython3",
   "version": "3.10.18"
  }
 },
 "nbformat": 4,
 "nbformat_minor": 5
}
